{
 "cells": [
  {
   "cell_type": "code",
   "execution_count": 1,
   "id": "1271e9d2-63b3-4184-8fb3-a2df2cf0715c",
   "metadata": {},
   "outputs": [],
   "source": [
    "import pandas as pd\n",
    "import numpy as np"
   ]
  },
  {
   "cell_type": "code",
   "execution_count": 2,
   "id": "87ae40db-d6db-4114-9ef3-efcbf422f13d",
   "metadata": {},
   "outputs": [
    {
     "data": {
      "text/html": [
       "<div>\n",
       "<style scoped>\n",
       "    .dataframe tbody tr th:only-of-type {\n",
       "        vertical-align: middle;\n",
       "    }\n",
       "\n",
       "    .dataframe tbody tr th {\n",
       "        vertical-align: top;\n",
       "    }\n",
       "\n",
       "    .dataframe thead th {\n",
       "        text-align: right;\n",
       "    }\n",
       "</style>\n",
       "<table border=\"1\" class=\"dataframe\">\n",
       "  <thead>\n",
       "    <tr style=\"text-align: right;\">\n",
       "      <th></th>\n",
       "      <th>Unnamed: 0</th>\n",
       "      <th>review_id</th>\n",
       "      <th>review_title</th>\n",
       "      <th>review_comment</th>\n",
       "      <th>review_star_rating</th>\n",
       "      <th>review_link</th>\n",
       "      <th>review_author</th>\n",
       "      <th>review_author_avatar</th>\n",
       "      <th>review_images</th>\n",
       "      <th>review_video</th>\n",
       "      <th>review_date</th>\n",
       "      <th>is_verified_purchase</th>\n",
       "      <th>helpful_vote_statement</th>\n",
       "      <th>reviewed_product_asin</th>\n",
       "      <th>review_video.stream_url</th>\n",
       "      <th>review_video.closed_captions_url</th>\n",
       "      <th>review_video.thumbnail_url</th>\n",
       "    </tr>\n",
       "  </thead>\n",
       "  <tbody>\n",
       "    <tr>\n",
       "      <th>0</th>\n",
       "      <td>0</td>\n",
       "      <td>R3C9MTXA0YTPO1</td>\n",
       "      <td>Buckle Up</td>\n",
       "      <td>Blessed to attend this Church in NJ. The Devil...</td>\n",
       "      <td>5</td>\n",
       "      <td>https://www.amazon.com/gp/customer-reviews/R3C...</td>\n",
       "      <td>Marinus</td>\n",
       "      <td>https://images-na.ssl-images-amazon.com/images...</td>\n",
       "      <td>['https://m.media-amazon.com/images/I/71JDoXZw...</td>\n",
       "      <td>NaN</td>\n",
       "      <td>Reviewed in the United States on September 3, ...</td>\n",
       "      <td>True</td>\n",
       "      <td>14 people found this helpful</td>\n",
       "      <td>1636413994</td>\n",
       "      <td>NaN</td>\n",
       "      <td>NaN</td>\n",
       "      <td>NaN</td>\n",
       "    </tr>\n",
       "    <tr>\n",
       "      <th>1</th>\n",
       "      <td>1</td>\n",
       "      <td>RK2PSAUN0XQ2R</td>\n",
       "      <td>HOLY APOCALYPSE</td>\n",
       "      <td>HOLY APOCALYPSE!  Amazing!  Incredible!  It’s ...</td>\n",
       "      <td>5</td>\n",
       "      <td>https://www.amazon.com/gp/customer-reviews/RK2...</td>\n",
       "      <td>Beryl Davidson</td>\n",
       "      <td>https://images-na.ssl-images-amazon.com/images...</td>\n",
       "      <td>[]</td>\n",
       "      <td>NaN</td>\n",
       "      <td>Reviewed in the United States on September 4, ...</td>\n",
       "      <td>True</td>\n",
       "      <td>5 people found this helpful</td>\n",
       "      <td>1636413994</td>\n",
       "      <td>NaN</td>\n",
       "      <td>NaN</td>\n",
       "      <td>NaN</td>\n",
       "    </tr>\n",
       "  </tbody>\n",
       "</table>\n",
       "</div>"
      ],
      "text/plain": [
       "   Unnamed: 0       review_id     review_title  \\\n",
       "0           0  R3C9MTXA0YTPO1        Buckle Up   \n",
       "1           1   RK2PSAUN0XQ2R  HOLY APOCALYPSE   \n",
       "\n",
       "                                      review_comment  review_star_rating  \\\n",
       "0  Blessed to attend this Church in NJ. The Devil...                   5   \n",
       "1  HOLY APOCALYPSE!  Amazing!  Incredible!  It’s ...                   5   \n",
       "\n",
       "                                         review_link   review_author  \\\n",
       "0  https://www.amazon.com/gp/customer-reviews/R3C...         Marinus   \n",
       "1  https://www.amazon.com/gp/customer-reviews/RK2...  Beryl Davidson   \n",
       "\n",
       "                                review_author_avatar  \\\n",
       "0  https://images-na.ssl-images-amazon.com/images...   \n",
       "1  https://images-na.ssl-images-amazon.com/images...   \n",
       "\n",
       "                                       review_images  review_video  \\\n",
       "0  ['https://m.media-amazon.com/images/I/71JDoXZw...           NaN   \n",
       "1                                                 []           NaN   \n",
       "\n",
       "                                         review_date  is_verified_purchase  \\\n",
       "0  Reviewed in the United States on September 3, ...                  True   \n",
       "1  Reviewed in the United States on September 4, ...                  True   \n",
       "\n",
       "         helpful_vote_statement reviewed_product_asin review_video.stream_url  \\\n",
       "0  14 people found this helpful            1636413994                     NaN   \n",
       "1   5 people found this helpful            1636413994                     NaN   \n",
       "\n",
       "  review_video.closed_captions_url review_video.thumbnail_url  \n",
       "0                              NaN                        NaN  \n",
       "1                              NaN                        NaN  "
      ]
     },
     "execution_count": 2,
     "metadata": {},
     "output_type": "execute_result"
    }
   ],
   "source": [
    "df = pd.read_csv(r'C:\\Users\\Karen Fernandes\\anaconda3\\Files\\Amazon API\\reviews.csv')\n",
    "df.head(2)"
   ]
  },
  {
   "cell_type": "code",
   "execution_count": 3,
   "id": "2d3e90d5-809e-44a0-8e5c-4f0aca5134ab",
   "metadata": {},
   "outputs": [],
   "source": [
    "# renaming columns\n",
    "df.rename(columns = {'review_comment': 'comment',\n",
    "                     'review_link': 'link',\n",
    "                     'review_author': 'author',\n",
    "                     'review_author_avatar': 'author_avatar',\n",
    "                     'review_images': 'images',\n",
    "                     'review_video': 'video', \n",
    "                     'review_date': 'date',\n",
    "                     'reviewed_product_asin': 'product_asin',\n",
    "                     'review_video.stream_url': 'video_stream_url',\n",
    "                     'review_video.closed_captions_url': 'video_closed_captions_url', \n",
    "                     'review_video.thumbnail_url': 'video_thumbnail_url'}, inplace = True)"
   ]
  },
  {
   "cell_type": "code",
   "execution_count": 4,
   "id": "a0126979-0851-4977-b26a-0fb30c6bcd28",
   "metadata": {},
   "outputs": [
    {
     "data": {
      "text/plain": [
       "Unnamed: 0                     int64\n",
       "review_id                     object\n",
       "review_title                  object\n",
       "comment                       object\n",
       "review_star_rating             int64\n",
       "link                          object\n",
       "author                        object\n",
       "author_avatar                 object\n",
       "images                        object\n",
       "video                        float64\n",
       "date                          object\n",
       "is_verified_purchase            bool\n",
       "helpful_vote_statement        object\n",
       "product_asin                  object\n",
       "video_stream_url              object\n",
       "video_closed_captions_url     object\n",
       "video_thumbnail_url           object\n",
       "dtype: object"
      ]
     },
     "execution_count": 4,
     "metadata": {},
     "output_type": "execute_result"
    }
   ],
   "source": [
    "# check datatypes\n",
    "df.dtypes"
   ]
  },
  {
   "cell_type": "code",
   "execution_count": 5,
   "id": "db295e54-8ed5-4e46-ba84-0bf48add023f",
   "metadata": {},
   "outputs": [],
   "source": [
    "# replace One with 1\n",
    "df['helpful_vote_statement'] = df['helpful_vote_statement'].str.replace('One','1')"
   ]
  },
  {
   "cell_type": "code",
   "execution_count": 6,
   "id": "940d144a-e6f4-454a-a8c6-0a0d62a8068d",
   "metadata": {},
   "outputs": [],
   "source": [
    "# extracting the count\n",
    "df['helpful_vote_count'] = df['helpful_vote_statement'].str.extract(r'(\\d+)').astype(float)"
   ]
  },
  {
   "cell_type": "code",
   "execution_count": 7,
   "id": "94e1e51d-a09b-45a0-90e3-765ce92779fe",
   "metadata": {},
   "outputs": [],
   "source": [
    "# updating the date column to extract just the date\n",
    "df['extracted_date'] = df['date'].str.extract(r'on (\\w+ \\d+, \\d{4})')"
   ]
  },
  {
   "cell_type": "code",
   "execution_count": 8,
   "id": "cef41412-08ff-45e7-b54c-9ce14b0bae9c",
   "metadata": {},
   "outputs": [],
   "source": [
    "# Converting the extracted date to datetime format\n",
    "df['numeric_date'] = pd.to_datetime(df['extracted_date'])"
   ]
  },
  {
   "cell_type": "code",
   "execution_count": 9,
   "id": "311036a5-06f2-4336-a3cf-22c16bb13af6",
   "metadata": {},
   "outputs": [],
   "source": [
    "# renaming columns\n",
    "df.rename(columns = {'date': 'date_location',\n",
    "                     'numeric_date': 'date'}, inplace = True)"
   ]
  },
  {
   "cell_type": "code",
   "execution_count": 10,
   "id": "4d7434d5-9b69-4608-99ca-981422150c65",
   "metadata": {},
   "outputs": [],
   "source": [
    "# drop nan columns\n",
    "df.drop(columns=['video', 'video_stream_url', 'video_closed_captions_url', 'video_thumbnail_url', 'images', 'Unnamed: 0'], inplace=True)"
   ]
  },
  {
   "cell_type": "code",
   "execution_count": 11,
   "id": "87daf141-e881-489f-b07a-4edccdcb7f47",
   "metadata": {},
   "outputs": [],
   "source": [
    "# fill empty cells with 0 \n",
    "df['helpful_vote_count'] = df['helpful_vote_count'].fillna(0.0)"
   ]
  },
  {
   "cell_type": "code",
   "execution_count": 12,
   "id": "cf7b693d-287e-4355-b672-6d6e9dc6538b",
   "metadata": {},
   "outputs": [],
   "source": [
    "# extract location \n",
    "df['location'] = df['date_location'].str.extract(r'Reviewed in the (.+?) on')"
   ]
  },
  {
   "cell_type": "code",
   "execution_count": 13,
   "id": "f585c3c9-9734-4cc6-9009-7b47778e17d5",
   "metadata": {},
   "outputs": [
    {
     "data": {
      "text/html": [
       "<div>\n",
       "<style scoped>\n",
       "    .dataframe tbody tr th:only-of-type {\n",
       "        vertical-align: middle;\n",
       "    }\n",
       "\n",
       "    .dataframe tbody tr th {\n",
       "        vertical-align: top;\n",
       "    }\n",
       "\n",
       "    .dataframe thead th {\n",
       "        text-align: right;\n",
       "    }\n",
       "</style>\n",
       "<table border=\"1\" class=\"dataframe\">\n",
       "  <thead>\n",
       "    <tr style=\"text-align: right;\">\n",
       "      <th></th>\n",
       "      <th>review_id</th>\n",
       "      <th>review_title</th>\n",
       "      <th>comment</th>\n",
       "      <th>review_star_rating</th>\n",
       "      <th>link</th>\n",
       "      <th>author</th>\n",
       "      <th>author_avatar</th>\n",
       "      <th>date_location</th>\n",
       "      <th>is_verified_purchase</th>\n",
       "      <th>helpful_vote_statement</th>\n",
       "      <th>product_asin</th>\n",
       "      <th>helpful_vote_count</th>\n",
       "      <th>extracted_date</th>\n",
       "      <th>date</th>\n",
       "      <th>location</th>\n",
       "    </tr>\n",
       "  </thead>\n",
       "  <tbody>\n",
       "    <tr>\n",
       "      <th>0</th>\n",
       "      <td>R3C9MTXA0YTPO1</td>\n",
       "      <td>Buckle Up</td>\n",
       "      <td>Blessed to attend this Church in NJ. The Devil...</td>\n",
       "      <td>5</td>\n",
       "      <td>https://www.amazon.com/gp/customer-reviews/R3C...</td>\n",
       "      <td>Marinus</td>\n",
       "      <td>https://images-na.ssl-images-amazon.com/images...</td>\n",
       "      <td>Reviewed in the United States on September 3, ...</td>\n",
       "      <td>True</td>\n",
       "      <td>14 people found this helpful</td>\n",
       "      <td>1636413994</td>\n",
       "      <td>14.0</td>\n",
       "      <td>September 3, 2024</td>\n",
       "      <td>2024-09-03</td>\n",
       "      <td>United States</td>\n",
       "    </tr>\n",
       "  </tbody>\n",
       "</table>\n",
       "</div>"
      ],
      "text/plain": [
       "        review_id review_title  \\\n",
       "0  R3C9MTXA0YTPO1    Buckle Up   \n",
       "\n",
       "                                             comment  review_star_rating  \\\n",
       "0  Blessed to attend this Church in NJ. The Devil...                   5   \n",
       "\n",
       "                                                link   author  \\\n",
       "0  https://www.amazon.com/gp/customer-reviews/R3C...  Marinus   \n",
       "\n",
       "                                       author_avatar  \\\n",
       "0  https://images-na.ssl-images-amazon.com/images...   \n",
       "\n",
       "                                       date_location  is_verified_purchase  \\\n",
       "0  Reviewed in the United States on September 3, ...                  True   \n",
       "\n",
       "         helpful_vote_statement product_asin  helpful_vote_count  \\\n",
       "0  14 people found this helpful   1636413994                14.0   \n",
       "\n",
       "      extracted_date       date       location  \n",
       "0  September 3, 2024 2024-09-03  United States  "
      ]
     },
     "execution_count": 13,
     "metadata": {},
     "output_type": "execute_result"
    }
   ],
   "source": [
    "df.head(1)"
   ]
  },
  {
   "cell_type": "code",
   "execution_count": 14,
   "id": "d2cfc73b-e435-4a84-8546-8f7fe094d8d0",
   "metadata": {},
   "outputs": [],
   "source": [
    "df.to_csv('cleaned_reviews_dataset.csv')"
   ]
  }
 ],
 "metadata": {
  "kernelspec": {
   "display_name": "Python 3 (ipykernel)",
   "language": "python",
   "name": "python3"
  },
  "language_info": {
   "codemirror_mode": {
    "name": "ipython",
    "version": 3
   },
   "file_extension": ".py",
   "mimetype": "text/x-python",
   "name": "python",
   "nbconvert_exporter": "python",
   "pygments_lexer": "ipython3",
   "version": "3.12.5"
  }
 },
 "nbformat": 4,
 "nbformat_minor": 5
}
