{
 "cells": [
  {
   "cell_type": "code",
   "execution_count": 1,
   "id": "7e44bfad-b109-4fd8-b21d-0732f771b502",
   "metadata": {},
   "outputs": [],
   "source": [
    "import pandas as pd\n",
    "import numpy as np"
   ]
  },
  {
   "cell_type": "code",
   "execution_count": 2,
   "id": "b2d45b31-1720-432e-8d2c-644ca27f57b6",
   "metadata": {},
   "outputs": [
    {
     "data": {
      "text/html": [
       "<div>\n",
       "<style scoped>\n",
       "    .dataframe tbody tr th:only-of-type {\n",
       "        vertical-align: middle;\n",
       "    }\n",
       "\n",
       "    .dataframe tbody tr th {\n",
       "        vertical-align: top;\n",
       "    }\n",
       "\n",
       "    .dataframe thead th {\n",
       "        text-align: right;\n",
       "    }\n",
       "</style>\n",
       "<table border=\"1\" class=\"dataframe\">\n",
       "  <thead>\n",
       "    <tr style=\"text-align: right;\">\n",
       "      <th></th>\n",
       "      <th>Unnamed: 0</th>\n",
       "      <th>asin</th>\n",
       "      <th>product_title</th>\n",
       "      <th>product_price</th>\n",
       "      <th>product_original_price</th>\n",
       "      <th>currency</th>\n",
       "      <th>product_star_rating</th>\n",
       "      <th>product_num_ratings</th>\n",
       "      <th>product_url</th>\n",
       "      <th>product_photo</th>\n",
       "      <th>product_num_offers</th>\n",
       "      <th>product_minimum_offer_price</th>\n",
       "      <th>is_best_seller</th>\n",
       "      <th>is_amazon_choice</th>\n",
       "      <th>is_prime</th>\n",
       "      <th>climate_pledge_friendly</th>\n",
       "      <th>sales_volume</th>\n",
       "      <th>delivery</th>\n",
       "      <th>has_variations</th>\n",
       "    </tr>\n",
       "  </thead>\n",
       "  <tbody>\n",
       "    <tr>\n",
       "      <th>0</th>\n",
       "      <td>0</td>\n",
       "      <td>1636413994</td>\n",
       "      <td>The Dragon&amp;#x27;s Prophecy: Israel, the Dark R...</td>\n",
       "      <td>$15.49</td>\n",
       "      <td>$28.99</td>\n",
       "      <td>USD</td>\n",
       "      <td>4.6</td>\n",
       "      <td>23</td>\n",
       "      <td>https://www.amazon.com/dp/1636413994</td>\n",
       "      <td>https://m.media-amazon.com/images/I/91qcLbAh3p...</td>\n",
       "      <td>1</td>\n",
       "      <td>$15.49</td>\n",
       "      <td>True</td>\n",
       "      <td>False</td>\n",
       "      <td>True</td>\n",
       "      <td>False</td>\n",
       "      <td>|</td>\n",
       "      <td>FREE delivery Tue, Sep 10 on $35 of items ship...</td>\n",
       "      <td>False</td>\n",
       "    </tr>\n",
       "    <tr>\n",
       "      <th>1</th>\n",
       "      <td>1</td>\n",
       "      <td>0593729900</td>\n",
       "      <td>Lovely One: A Memoir</td>\n",
       "      <td>$24.50</td>\n",
       "      <td>$35.00</td>\n",
       "      <td>USD</td>\n",
       "      <td>3.8</td>\n",
       "      <td>4</td>\n",
       "      <td>https://www.amazon.com/dp/0593729900</td>\n",
       "      <td>https://m.media-amazon.com/images/I/81juffzOJb...</td>\n",
       "      <td>1</td>\n",
       "      <td>$24.50</td>\n",
       "      <td>True</td>\n",
       "      <td>False</td>\n",
       "      <td>True</td>\n",
       "      <td>False</td>\n",
       "      <td>|</td>\n",
       "      <td>FREE delivery Mon, Sep 9 on $35 of items shipp...</td>\n",
       "      <td>False</td>\n",
       "    </tr>\n",
       "  </tbody>\n",
       "</table>\n",
       "</div>"
      ],
      "text/plain": [
       "   Unnamed: 0        asin                                      product_title  \\\n",
       "0           0  1636413994  The Dragon&#x27;s Prophecy: Israel, the Dark R...   \n",
       "1           1  0593729900                               Lovely One: A Memoir   \n",
       "\n",
       "  product_price product_original_price currency  product_star_rating  \\\n",
       "0        $15.49                 $28.99      USD                  4.6   \n",
       "1        $24.50                 $35.00      USD                  3.8   \n",
       "\n",
       "   product_num_ratings                           product_url  \\\n",
       "0                   23  https://www.amazon.com/dp/1636413994   \n",
       "1                    4  https://www.amazon.com/dp/0593729900   \n",
       "\n",
       "                                       product_photo  product_num_offers  \\\n",
       "0  https://m.media-amazon.com/images/I/91qcLbAh3p...                   1   \n",
       "1  https://m.media-amazon.com/images/I/81juffzOJb...                   1   \n",
       "\n",
       "  product_minimum_offer_price  is_best_seller  is_amazon_choice  is_prime  \\\n",
       "0                      $15.49            True             False      True   \n",
       "1                      $24.50            True             False      True   \n",
       "\n",
       "   climate_pledge_friendly sales_volume  \\\n",
       "0                    False           |    \n",
       "1                    False           |    \n",
       "\n",
       "                                            delivery  has_variations  \n",
       "0  FREE delivery Tue, Sep 10 on $35 of items ship...           False  \n",
       "1  FREE delivery Mon, Sep 9 on $35 of items shipp...           False  "
      ]
     },
     "execution_count": 2,
     "metadata": {},
     "output_type": "execute_result"
    }
   ],
   "source": [
    "df = pd.read_csv(r'C:\\Users\\Karen Fernandes\\anaconda3\\Files\\Amazon API\\productsbycategory.csv')\n",
    "df.head(2)"
   ]
  },
  {
   "cell_type": "code",
   "execution_count": 3,
   "id": "0caf935c-d2ff-4c63-8101-13ddbed837f4",
   "metadata": {},
   "outputs": [],
   "source": [
    "# renaming columns\n",
    "df.rename(columns={'product_price': 'price', \n",
    "                   'product_original_price': 'original_price', \n",
    "                   'product_num_ratings': 'num_ratings',\n",
    "                   'product_url': 'url',\n",
    "                   'product_photo': 'photo',\n",
    "                   'product_num_offers': 'num_offers',\n",
    "                   'product_minimum_offer_price': 'minimum_offer_price',\n",
    "                   'product_availability': 'availability',\n",
    "                   'sales_volume': 'sales_volume_in_past_month'\n",
    "                  }, inplace=True)"
   ]
  },
  {
   "cell_type": "code",
   "execution_count": 4,
   "id": "f7a63ae2-d217-4e3b-9982-e1b2f6503fa9",
   "metadata": {},
   "outputs": [
    {
     "data": {
      "text/plain": [
       "Index(['Unnamed: 0', 'asin', 'product_title', 'price', 'original_price',\n",
       "       'currency', 'product_star_rating', 'num_ratings', 'url', 'photo',\n",
       "       'num_offers', 'minimum_offer_price', 'is_best_seller',\n",
       "       'is_amazon_choice', 'is_prime', 'climate_pledge_friendly',\n",
       "       'sales_volume_in_past_month', 'delivery', 'has_variations'],\n",
       "      dtype='object')"
      ]
     },
     "execution_count": 4,
     "metadata": {},
     "output_type": "execute_result"
    }
   ],
   "source": [
    "df.columns"
   ]
  },
  {
   "cell_type": "code",
   "execution_count": 5,
   "id": "00ca78b1-faa3-4cb7-8e4a-a23920926c81",
   "metadata": {},
   "outputs": [
    {
     "data": {
      "text/plain": [
       "Unnamed: 0                      int64\n",
       "asin                           object\n",
       "product_title                  object\n",
       "price                          object\n",
       "original_price                 object\n",
       "currency                       object\n",
       "product_star_rating           float64\n",
       "num_ratings                     int64\n",
       "url                            object\n",
       "photo                          object\n",
       "num_offers                      int64\n",
       "minimum_offer_price            object\n",
       "is_best_seller                   bool\n",
       "is_amazon_choice                 bool\n",
       "is_prime                         bool\n",
       "climate_pledge_friendly          bool\n",
       "sales_volume_in_past_month     object\n",
       "delivery                       object\n",
       "has_variations                   bool\n",
       "dtype: object"
      ]
     },
     "execution_count": 5,
     "metadata": {},
     "output_type": "execute_result"
    }
   ],
   "source": [
    "# checking datatypes\n",
    "df.dtypes"
   ]
  },
  {
   "cell_type": "code",
   "execution_count": 6,
   "id": "6586dcd0-0ba6-4b31-ba11-9ca8e001d4d2",
   "metadata": {},
   "outputs": [],
   "source": [
    "# removing the currency symbol and making the columns float\n",
    "df['price'] = df['price'].str.replace('$','').astype(float)\n",
    "df['original_price'] = df['original_price'].str.replace('$','').astype(float)\n",
    "df['minimum_offer_price'] = df['minimum_offer_price'].str.replace('$','').astype(float)"
   ]
  },
  {
   "cell_type": "code",
   "execution_count": 7,
   "id": "19baaf69-db6e-4666-951e-0d159a3bdc3f",
   "metadata": {},
   "outputs": [],
   "source": [
    "# fill in empty cells with mean values\n",
    "df['product_star_rating'] = df['product_star_rating'].fillna(df['product_star_rating'].mean())"
   ]
  },
  {
   "cell_type": "code",
   "execution_count": 8,
   "id": "cc6991b4-52f0-42f6-a28a-946e1ba6beb4",
   "metadata": {},
   "outputs": [],
   "source": [
    "# round up to 1 digit\n",
    "df['product_star_rating'] = df['product_star_rating'].round(1)"
   ]
  },
  {
   "cell_type": "code",
   "execution_count": 9,
   "id": "5a14d4d2-ef40-4afa-a421-eb1ac7f4e7cd",
   "metadata": {},
   "outputs": [
    {
     "data": {
      "text/plain": [
       "np.int64(1)"
      ]
     },
     "execution_count": 9,
     "metadata": {},
     "output_type": "execute_result"
    }
   ],
   "source": [
    "# check for duplicate total\n",
    "df.duplicated(subset=['asin']).sum()"
   ]
  },
  {
   "cell_type": "code",
   "execution_count": 10,
   "id": "1ef6cde6-4f6c-4fe4-bc72-093966cff754",
   "metadata": {},
   "outputs": [],
   "source": [
    "# drop duplicates based on the 'asin' column in place\n",
    "df.drop_duplicates(subset=['asin'], inplace=True)"
   ]
  },
  {
   "cell_type": "code",
   "execution_count": 11,
   "id": "99f72072-0e35-4fbd-a40a-7100c9bfe6fd",
   "metadata": {},
   "outputs": [
    {
     "data": {
      "text/plain": [
       "np.int64(0)"
      ]
     },
     "execution_count": 11,
     "metadata": {},
     "output_type": "execute_result"
    }
   ],
   "source": [
    "# check for duplicate total\n",
    "df.duplicated(subset=['asin']).sum()"
   ]
  },
  {
   "cell_type": "code",
   "execution_count": 12,
   "id": "9a8c44c1-84a0-4f42-806b-068a2ea4f3c4",
   "metadata": {},
   "outputs": [],
   "source": [
    "# drop nan columns\n",
    "df.drop(columns=['sales_volume_in_past_month', 'Unnamed: 0'], inplace=True)"
   ]
  },
  {
   "cell_type": "code",
   "execution_count": 13,
   "id": "5e18cebd-9f2e-4c2a-95fe-0b569cc5106e",
   "metadata": {},
   "outputs": [
    {
     "data": {
      "text/plain": [
       "Index(['asin', 'product_title', 'price', 'original_price', 'currency',\n",
       "       'product_star_rating', 'num_ratings', 'url', 'photo', 'num_offers',\n",
       "       'minimum_offer_price', 'is_best_seller', 'is_amazon_choice', 'is_prime',\n",
       "       'climate_pledge_friendly', 'delivery', 'has_variations'],\n",
       "      dtype='object')"
      ]
     },
     "execution_count": 13,
     "metadata": {},
     "output_type": "execute_result"
    }
   ],
   "source": [
    "df.columns"
   ]
  },
  {
   "cell_type": "code",
   "execution_count": 14,
   "id": "59218c6f-7b79-4d19-9e34-6ae5b21fecee",
   "metadata": {},
   "outputs": [],
   "source": [
    "# export clean data\n",
    "df.to_csv('cleaned_pbc_dataset.csv')"
   ]
  }
 ],
 "metadata": {
  "kernelspec": {
   "display_name": "Python 3 (ipykernel)",
   "language": "python",
   "name": "python3"
  },
  "language_info": {
   "codemirror_mode": {
    "name": "ipython",
    "version": 3
   },
   "file_extension": ".py",
   "mimetype": "text/x-python",
   "name": "python",
   "nbconvert_exporter": "python",
   "pygments_lexer": "ipython3",
   "version": "3.12.5"
  }
 },
 "nbformat": 4,
 "nbformat_minor": 5
}
