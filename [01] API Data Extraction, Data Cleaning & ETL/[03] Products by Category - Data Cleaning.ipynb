{
 "cells": [
  {
   "cell_type": "code",
   "execution_count": 1,
   "id": "7e44bfad-b109-4fd8-b21d-0732f771b502",
   "metadata": {},
   "outputs": [],
   "source": [
    "import pandas as pd\n",
    "import numpy as np"
   ]
  },
  {
   "cell_type": "code",
   "execution_count": 2,
   "id": "b2d45b31-1720-432e-8d2c-644ca27f57b6",
   "metadata": {},
   "outputs": [
    {
     "data": {
      "text/html": [
       "<div>\n",
       "<style scoped>\n",
       "    .dataframe tbody tr th:only-of-type {\n",
       "        vertical-align: middle;\n",
       "    }\n",
       "\n",
       "    .dataframe tbody tr th {\n",
       "        vertical-align: top;\n",
       "    }\n",
       "\n",
       "    .dataframe thead th {\n",
       "        text-align: right;\n",
       "    }\n",
       "</style>\n",
       "<table border=\"1\" class=\"dataframe\">\n",
       "  <thead>\n",
       "    <tr style=\"text-align: right;\">\n",
       "      <th></th>\n",
       "      <th>Unnamed: 0</th>\n",
       "      <th>asin</th>\n",
       "      <th>product_title</th>\n",
       "      <th>product_price</th>\n",
       "      <th>product_original_price</th>\n",
       "      <th>currency</th>\n",
       "      <th>product_star_rating</th>\n",
       "      <th>product_num_ratings</th>\n",
       "      <th>product_url</th>\n",
       "      <th>product_photo</th>\n",
       "      <th>...</th>\n",
       "      <th>is_amazon_choice</th>\n",
       "      <th>is_prime</th>\n",
       "      <th>climate_pledge_friendly</th>\n",
       "      <th>sales_volume</th>\n",
       "      <th>delivery</th>\n",
       "      <th>has_variations</th>\n",
       "      <th>coupon_text</th>\n",
       "      <th>unit_price</th>\n",
       "      <th>unit_count</th>\n",
       "      <th>product_availability</th>\n",
       "    </tr>\n",
       "  </thead>\n",
       "  <tbody>\n",
       "    <tr>\n",
       "      <th>0</th>\n",
       "      <td>0</td>\n",
       "      <td>B0D9H39JL7</td>\n",
       "      <td>USB C Charger iPhone Charger Fast Charging 2Pa...</td>\n",
       "      <td>$19.77</td>\n",
       "      <td>$29.77</td>\n",
       "      <td>USD</td>\n",
       "      <td>5.0</td>\n",
       "      <td>4</td>\n",
       "      <td>https://www.amazon.com/dp/B0D9H39JL7</td>\n",
       "      <td>https://m.media-amazon.com/images/I/610G+kDmBE...</td>\n",
       "      <td>...</td>\n",
       "      <td>False</td>\n",
       "      <td>False</td>\n",
       "      <td>False</td>\n",
       "      <td>50+ bought in past month</td>\n",
       "      <td>FREE delivery on $35 shipped by Amazon.</td>\n",
       "      <td>False</td>\n",
       "      <td>NaN</td>\n",
       "      <td>NaN</td>\n",
       "      <td>NaN</td>\n",
       "      <td>NaN</td>\n",
       "    </tr>\n",
       "    <tr>\n",
       "      <th>1</th>\n",
       "      <td>1</td>\n",
       "      <td>B0D7VRMJ9Y</td>\n",
       "      <td>Ear buds Wireless Earbuds 80Hrs Playtime Bluet...</td>\n",
       "      <td>$19.99</td>\n",
       "      <td>$36.99</td>\n",
       "      <td>USD</td>\n",
       "      <td>5.0</td>\n",
       "      <td>193</td>\n",
       "      <td>https://www.amazon.com/dp/B0D7VRMJ9Y</td>\n",
       "      <td>https://m.media-amazon.com/images/I/61D5NNCirf...</td>\n",
       "      <td>...</td>\n",
       "      <td>False</td>\n",
       "      <td>True</td>\n",
       "      <td>False</td>\n",
       "      <td>200+ bought in past month</td>\n",
       "      <td>FREE delivery Wed, Jul 31 on $35 of items ship...</td>\n",
       "      <td>False</td>\n",
       "      <td>Save 20% with coupon</td>\n",
       "      <td>NaN</td>\n",
       "      <td>NaN</td>\n",
       "      <td>NaN</td>\n",
       "    </tr>\n",
       "    <tr>\n",
       "      <th>2</th>\n",
       "      <td>2</td>\n",
       "      <td>B0D6NKMVMP</td>\n",
       "      <td>Larsa Pippen - The Larsa Light - LED Selfie Li...</td>\n",
       "      <td>$19.99</td>\n",
       "      <td>$34.99</td>\n",
       "      <td>USD</td>\n",
       "      <td>4.8</td>\n",
       "      <td>17</td>\n",
       "      <td>https://www.amazon.com/dp/B0D6NKMVMP</td>\n",
       "      <td>https://m.media-amazon.com/images/I/51uqAunv3V...</td>\n",
       "      <td>...</td>\n",
       "      <td>False</td>\n",
       "      <td>True</td>\n",
       "      <td>False</td>\n",
       "      <td>100+ bought in past month</td>\n",
       "      <td>FREE delivery Wed, Jul 31 on $35 of items ship...</td>\n",
       "      <td>False</td>\n",
       "      <td>NaN</td>\n",
       "      <td>NaN</td>\n",
       "      <td>NaN</td>\n",
       "      <td>NaN</td>\n",
       "    </tr>\n",
       "    <tr>\n",
       "      <th>3</th>\n",
       "      <td>3</td>\n",
       "      <td>B0D7Q55LT3</td>\n",
       "      <td>Unbreakable 9H+ Glass for iPhone 15 Pro Max Sc...</td>\n",
       "      <td>$9.99</td>\n",
       "      <td>NaN</td>\n",
       "      <td>USD</td>\n",
       "      <td>4.9</td>\n",
       "      <td>12</td>\n",
       "      <td>https://www.amazon.com/dp/B0D7Q55LT3</td>\n",
       "      <td>https://m.media-amazon.com/images/I/71cD3oaQgB...</td>\n",
       "      <td>...</td>\n",
       "      <td>False</td>\n",
       "      <td>True</td>\n",
       "      <td>False</td>\n",
       "      <td>NaN</td>\n",
       "      <td>FREE delivery Wed, Jul 31 on $35 of items ship...</td>\n",
       "      <td>False</td>\n",
       "      <td>Save 5% with coupon</td>\n",
       "      <td>NaN</td>\n",
       "      <td>NaN</td>\n",
       "      <td>NaN</td>\n",
       "    </tr>\n",
       "    <tr>\n",
       "      <th>4</th>\n",
       "      <td>4</td>\n",
       "      <td>B0D9JXR3BH</td>\n",
       "      <td>HDMI Splitter -HDMI Splitter 1 in 2 Out Adapte...</td>\n",
       "      <td>$13.89</td>\n",
       "      <td>NaN</td>\n",
       "      <td>USD</td>\n",
       "      <td>4.8</td>\n",
       "      <td>45877</td>\n",
       "      <td>https://www.amazon.com/dp/B0D9JXR3BH</td>\n",
       "      <td>https://m.media-amazon.com/images/I/612gNsa7J5...</td>\n",
       "      <td>...</td>\n",
       "      <td>False</td>\n",
       "      <td>True</td>\n",
       "      <td>False</td>\n",
       "      <td>200+ bought in past month</td>\n",
       "      <td>FREE delivery Wed, Jul 31 on $35 of items ship...</td>\n",
       "      <td>False</td>\n",
       "      <td>Save $3.00 with coupon</td>\n",
       "      <td>NaN</td>\n",
       "      <td>NaN</td>\n",
       "      <td>NaN</td>\n",
       "    </tr>\n",
       "  </tbody>\n",
       "</table>\n",
       "<p>5 rows × 23 columns</p>\n",
       "</div>"
      ],
      "text/plain": [
       "   Unnamed: 0        asin                                      product_title  \\\n",
       "0           0  B0D9H39JL7  USB C Charger iPhone Charger Fast Charging 2Pa...   \n",
       "1           1  B0D7VRMJ9Y  Ear buds Wireless Earbuds 80Hrs Playtime Bluet...   \n",
       "2           2  B0D6NKMVMP  Larsa Pippen - The Larsa Light - LED Selfie Li...   \n",
       "3           3  B0D7Q55LT3  Unbreakable 9H+ Glass for iPhone 15 Pro Max Sc...   \n",
       "4           4  B0D9JXR3BH  HDMI Splitter -HDMI Splitter 1 in 2 Out Adapte...   \n",
       "\n",
       "  product_price product_original_price currency  product_star_rating  \\\n",
       "0        $19.77                 $29.77      USD                  5.0   \n",
       "1        $19.99                 $36.99      USD                  5.0   \n",
       "2        $19.99                 $34.99      USD                  4.8   \n",
       "3         $9.99                    NaN      USD                  4.9   \n",
       "4        $13.89                    NaN      USD                  4.8   \n",
       "\n",
       "   product_num_ratings                           product_url  \\\n",
       "0                    4  https://www.amazon.com/dp/B0D9H39JL7   \n",
       "1                  193  https://www.amazon.com/dp/B0D7VRMJ9Y   \n",
       "2                   17  https://www.amazon.com/dp/B0D6NKMVMP   \n",
       "3                   12  https://www.amazon.com/dp/B0D7Q55LT3   \n",
       "4                45877  https://www.amazon.com/dp/B0D9JXR3BH   \n",
       "\n",
       "                                       product_photo  ...  is_amazon_choice  \\\n",
       "0  https://m.media-amazon.com/images/I/610G+kDmBE...  ...             False   \n",
       "1  https://m.media-amazon.com/images/I/61D5NNCirf...  ...             False   \n",
       "2  https://m.media-amazon.com/images/I/51uqAunv3V...  ...             False   \n",
       "3  https://m.media-amazon.com/images/I/71cD3oaQgB...  ...             False   \n",
       "4  https://m.media-amazon.com/images/I/612gNsa7J5...  ...             False   \n",
       "\n",
       "  is_prime  climate_pledge_friendly               sales_volume  \\\n",
       "0    False                    False   50+ bought in past month   \n",
       "1     True                    False  200+ bought in past month   \n",
       "2     True                    False  100+ bought in past month   \n",
       "3     True                    False                        NaN   \n",
       "4     True                    False  200+ bought in past month   \n",
       "\n",
       "                                            delivery  has_variations  \\\n",
       "0            FREE delivery on $35 shipped by Amazon.           False   \n",
       "1  FREE delivery Wed, Jul 31 on $35 of items ship...           False   \n",
       "2  FREE delivery Wed, Jul 31 on $35 of items ship...           False   \n",
       "3  FREE delivery Wed, Jul 31 on $35 of items ship...           False   \n",
       "4  FREE delivery Wed, Jul 31 on $35 of items ship...           False   \n",
       "\n",
       "              coupon_text unit_price  unit_count product_availability  \n",
       "0                     NaN        NaN         NaN                  NaN  \n",
       "1    Save 20% with coupon        NaN         NaN                  NaN  \n",
       "2                     NaN        NaN         NaN                  NaN  \n",
       "3     Save 5% with coupon        NaN         NaN                  NaN  \n",
       "4  Save $3.00 with coupon        NaN         NaN                  NaN  \n",
       "\n",
       "[5 rows x 23 columns]"
      ]
     },
     "execution_count": 2,
     "metadata": {},
     "output_type": "execute_result"
    }
   ],
   "source": [
    "df = pd.read_csv(r'C:\\Users\\KAREN J FERNANDES\\anaconda3\\Files\\Projects\\API\\products_by_category.csv')\n",
    "df.head()"
   ]
  },
  {
   "cell_type": "code",
   "execution_count": 3,
   "id": "0caf935c-d2ff-4c63-8101-13ddbed837f4",
   "metadata": {},
   "outputs": [],
   "source": [
    "# renaming columns\n",
    "df.rename(columns={'Unnamed: 0':'id',\n",
    "                   'product_title': 'title', \n",
    "                   'product_price': 'price', \n",
    "                   'product_original_price': 'original_price', \n",
    "                   'product_star_rating': 'star_rating', \n",
    "                   'product_num_ratings': 'num_ratings',\n",
    "                   'product_url': 'url',\n",
    "                   'product_photo': 'photo',\n",
    "                   'product_num_offers': 'num_offers',\n",
    "                   'product_minimum_offer_price': 'minimum_offer_price',\n",
    "                   'product_availability': 'availability',\n",
    "                   'sales_volume': 'sales_volume_in_past_month'\n",
    "                  }, inplace=True)"
   ]
  },
  {
   "cell_type": "code",
   "execution_count": 4,
   "id": "f7a63ae2-d217-4e3b-9982-e1b2f6503fa9",
   "metadata": {},
   "outputs": [
    {
     "data": {
      "text/plain": [
       "Index(['id', 'asin', 'title', 'price', 'original_price', 'currency',\n",
       "       'star_rating', 'num_ratings', 'url', 'photo', 'num_offers',\n",
       "       'minimum_offer_price', 'is_best_seller', 'is_amazon_choice', 'is_prime',\n",
       "       'climate_pledge_friendly', 'sales_volume_in_past_month', 'delivery',\n",
       "       'has_variations', 'coupon_text', 'unit_price', 'unit_count',\n",
       "       'availability'],\n",
       "      dtype='object')"
      ]
     },
     "execution_count": 4,
     "metadata": {},
     "output_type": "execute_result"
    }
   ],
   "source": [
    "df.columns"
   ]
  },
  {
   "cell_type": "code",
   "execution_count": 5,
   "id": "00ca78b1-faa3-4cb7-8e4a-a23920926c81",
   "metadata": {},
   "outputs": [
    {
     "data": {
      "text/plain": [
       "id                              int64\n",
       "asin                           object\n",
       "title                          object\n",
       "price                          object\n",
       "original_price                 object\n",
       "currency                       object\n",
       "star_rating                   float64\n",
       "num_ratings                     int64\n",
       "url                            object\n",
       "photo                          object\n",
       "num_offers                      int64\n",
       "minimum_offer_price            object\n",
       "is_best_seller                   bool\n",
       "is_amazon_choice                 bool\n",
       "is_prime                         bool\n",
       "climate_pledge_friendly          bool\n",
       "sales_volume_in_past_month     object\n",
       "delivery                       object\n",
       "has_variations                   bool\n",
       "coupon_text                    object\n",
       "unit_price                     object\n",
       "unit_count                    float64\n",
       "availability                   object\n",
       "dtype: object"
      ]
     },
     "execution_count": 5,
     "metadata": {},
     "output_type": "execute_result"
    }
   ],
   "source": [
    "# checking datatypes\n",
    "df.dtypes"
   ]
  },
  {
   "cell_type": "code",
   "execution_count": 6,
   "id": "6586dcd0-0ba6-4b31-ba11-9ca8e001d4d2",
   "metadata": {},
   "outputs": [
    {
     "name": "stderr",
     "output_type": "stream",
     "text": [
      "C:\\Users\\KAREN J FERNANDES\\AppData\\Local\\Temp\\ipykernel_7668\\3411589269.py:2: FutureWarning: The default value of regex will change from True to False in a future version. In addition, single character regular expressions will *not* be treated as literal strings when regex=True.\n",
      "  df['price'] = df['price'].str.replace('$','').astype(float)\n",
      "C:\\Users\\KAREN J FERNANDES\\AppData\\Local\\Temp\\ipykernel_7668\\3411589269.py:3: FutureWarning: The default value of regex will change from True to False in a future version. In addition, single character regular expressions will *not* be treated as literal strings when regex=True.\n",
      "  df['original_price'] = df['original_price'].str.replace('$','').astype(float)\n",
      "C:\\Users\\KAREN J FERNANDES\\AppData\\Local\\Temp\\ipykernel_7668\\3411589269.py:4: FutureWarning: The default value of regex will change from True to False in a future version. In addition, single character regular expressions will *not* be treated as literal strings when regex=True.\n",
      "  df['minimum_offer_price'] = df['minimum_offer_price'].str.replace('$','').astype(float)\n"
     ]
    }
   ],
   "source": [
    "# removing the currency symbol and making the columns float\n",
    "df['price'] = df['price'].str.replace('$','').astype(float)\n",
    "df['original_price'] = df['original_price'].str.replace('$','').astype(float)\n",
    "df['minimum_offer_price'] = df['minimum_offer_price'].str.replace('$','').astype(float)"
   ]
  },
  {
   "cell_type": "code",
   "execution_count": 7,
   "id": "19baaf69-db6e-4666-951e-0d159a3bdc3f",
   "metadata": {},
   "outputs": [],
   "source": [
    "# fill in empty cells with mean values\n",
    "df['star_rating'] = df['star_rating'].fillna(df['star_rating'].mean())"
   ]
  },
  {
   "cell_type": "code",
   "execution_count": 8,
   "id": "cc6991b4-52f0-42f6-a28a-946e1ba6beb4",
   "metadata": {},
   "outputs": [],
   "source": [
    "# round up to 1 digit\n",
    "df['star_rating'] = df['star_rating'].round(1)"
   ]
  },
  {
   "cell_type": "code",
   "execution_count": 9,
   "id": "c0e6100f-dfab-438a-b788-27716532c476",
   "metadata": {},
   "outputs": [],
   "source": [
    "# removing the non-numeric data\n",
    "df['sales_volume_in_past_month'] = df['sales_volume_in_past_month'].astype(str).str.extract('(\\d+)')[0].astype(float)"
   ]
  },
  {
   "cell_type": "code",
   "execution_count": 10,
   "id": "8ca8f1ca-de37-4dfa-9a22-975f1c8f7eca",
   "metadata": {},
   "outputs": [],
   "source": [
    "# Drop rows where 'sales_volume' is NaN\n",
    "df = df.dropna(subset=['sales_volume_in_past_month']).reset_index(drop = True)"
   ]
  },
  {
   "cell_type": "code",
   "execution_count": 11,
   "id": "5a14d4d2-ef40-4afa-a421-eb1ac7f4e7cd",
   "metadata": {},
   "outputs": [
    {
     "data": {
      "text/plain": [
       "6"
      ]
     },
     "execution_count": 11,
     "metadata": {},
     "output_type": "execute_result"
    }
   ],
   "source": [
    "# check for duplicate total\n",
    "df.duplicated(subset=['asin']).sum()"
   ]
  },
  {
   "cell_type": "code",
   "execution_count": 12,
   "id": "55d0ff16-6d9b-48e2-bbb4-dde59bd9f7f1",
   "metadata": {},
   "outputs": [],
   "source": [
    "# deleting duplicates\n",
    "df1 = df.drop_duplicates(subset=['asin'])"
   ]
  },
  {
   "cell_type": "code",
   "execution_count": 13,
   "id": "f669f5e7-0f3a-4aef-b900-9ee3f18c2cc0",
   "metadata": {},
   "outputs": [
    {
     "data": {
      "text/plain": [
       "0"
      ]
     },
     "execution_count": 13,
     "metadata": {},
     "output_type": "execute_result"
    }
   ],
   "source": [
    "# check for duplicate total\n",
    "df1.duplicated(subset=['asin']).sum()"
   ]
  },
  {
   "cell_type": "code",
   "execution_count": 14,
   "id": "e3ec5677-31cc-430e-9ed1-4d890239c88c",
   "metadata": {},
   "outputs": [
    {
     "name": "stderr",
     "output_type": "stream",
     "text": [
      "C:\\Users\\KAREN J FERNANDES\\AppData\\Local\\Temp\\ipykernel_7668\\1065632519.py:2: SettingWithCopyWarning: \n",
      "A value is trying to be set on a copy of a slice from a DataFrame.\n",
      "Try using .loc[row_indexer,col_indexer] = value instead\n",
      "\n",
      "See the caveats in the documentation: https://pandas.pydata.org/pandas-docs/stable/user_guide/indexing.html#returning-a-view-versus-a-copy\n",
      "  df1['id'] = range(len(df1))\n"
     ]
    }
   ],
   "source": [
    "# reset dropped rows for and proper numbering the id column\n",
    "df1['id'] = range(len(df1))"
   ]
  },
  {
   "cell_type": "code",
   "execution_count": 15,
   "id": "5e18cebd-9f2e-4c2a-95fe-0b569cc5106e",
   "metadata": {},
   "outputs": [
    {
     "data": {
      "text/plain": [
       "Index(['id', 'asin', 'title', 'price', 'original_price', 'currency',\n",
       "       'star_rating', 'num_ratings', 'url', 'photo', 'num_offers',\n",
       "       'minimum_offer_price', 'is_best_seller', 'is_amazon_choice', 'is_prime',\n",
       "       'climate_pledge_friendly', 'sales_volume_in_past_month', 'delivery',\n",
       "       'has_variations', 'coupon_text', 'unit_price', 'unit_count',\n",
       "       'availability'],\n",
       "      dtype='object')"
      ]
     },
     "execution_count": 15,
     "metadata": {},
     "output_type": "execute_result"
    }
   ],
   "source": [
    "df1.columns"
   ]
  },
  {
   "cell_type": "code",
   "execution_count": 16,
   "id": "59218c6f-7b79-4d19-9e34-6ae5b21fecee",
   "metadata": {},
   "outputs": [],
   "source": [
    "# export clean data\n",
    "df1.to_csv('cleaned_pbc_dataset.csv')"
   ]
  }
 ],
 "metadata": {
  "kernelspec": {
   "display_name": "Python 3 (ipykernel)",
   "language": "python",
   "name": "python3"
  },
  "language_info": {
   "codemirror_mode": {
    "name": "ipython",
    "version": 3
   },
   "file_extension": ".py",
   "mimetype": "text/x-python",
   "name": "python",
   "nbconvert_exporter": "python",
   "pygments_lexer": "ipython3",
   "version": "3.9.13"
  }
 },
 "nbformat": 4,
 "nbformat_minor": 5
}
